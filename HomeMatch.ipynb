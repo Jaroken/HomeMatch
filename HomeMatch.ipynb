{
 "cells": [
  {
   "cell_type": "markdown",
   "id": "a108af04",
   "metadata": {},
   "source": [
    "This is a starter notebook for the project, you'll have to import the libraries you'll need, you can find a list of the ones available in this workspace in the requirements.txt file in this workspace. "
   ]
  },
  {
   "cell_type": "code",
   "execution_count": 203,
   "id": "6554fd4c",
   "metadata": {},
   "outputs": [],
   "source": [
    "import os\n",
    "import openai\n",
    "import random\n",
    "os.environ[\"OPENAI_API_KEY\"] = input(\"ENTER API KEY :\")\n",
    "os.environ[\"OPENAI_API_BASE\"] = input(\"ENTER API BASE :\")\n",
    "\n",
    "from langchain.llms import OpenAI\n",
    "openai.api_key = os.environ[\"OPENAI_API_KEY\"]\n",
    "openai.api_base = os.environ[\"OPENAI_API_BASE\"]"
   ]
  },
  {
   "cell_type": "markdown",
   "id": "dfd4367a-271d-4fad-a440-1436b2dea21b",
   "metadata": {},
   "source": [
    "### Step 1: Setting Up the Python Application\n",
    "\n",
    "- Initialize a Python Project: Create a new Python project, setting up a virtual environment and installing necessary packages like LangChain, a suitable LLM library (e.g., OpenAI's GPT), and a vector database package compatible with Python (e.g., ChromaDB or LanceDB). If you don't wish to create your files from scratch, starter files are available in the workspace on the next page as an application skeleton."
   ]
  },
  {
   "cell_type": "code",
   "execution_count": 204,
   "id": "f83ec4a8-07b1-4f1c-8c27-8d7ace53e284",
   "metadata": {},
   "outputs": [],
   "source": [
    "## Launch and Install script\n",
    "# conda create -n realestate_agent python=3.10.11\n",
    "# eval \"$(conda shell.bash hook)\"\n",
    "# eval conda activate realestate_agent\n",
    "#conda install jupyter\n",
    "# cd /home/kenneth/Documents/Projects/realestate_agent\n",
    "# jupyter-notebook\n",
    "\n",
    "#!pip install -r requirements"
   ]
  },
  {
   "cell_type": "markdown",
   "id": "93e1b110-e105-4ae0-bf50-892e99ed71c1",
   "metadata": {},
   "source": [
    "### Step 2: Generating Real Estate Listings\n",
    "\n",
    "- Generate real estate listings using a Large Language Model. Generate at least 10 listings This can involve creating prompts for the LLM to produce descriptions of various properties. An example of a listing might be:"
   ]
  },
  {
   "cell_type": "code",
   "execution_count": 205,
   "id": "c2e2cdce-9d62-4c11-acc6-dee046ed989a",
   "metadata": {},
   "outputs": [],
   "source": [
    "example_listing = \"\"\"Neighborhood: Green Oaks\n",
    "Price: $800,000\n",
    "Bedrooms: 3\n",
    "Bathrooms: 2\n",
    "Property: House \n",
    "Pool: In-ground\n",
    "Size: 2,000 sqft\n",
    "\n",
    "Description: Welcome to this eco-friendly oasis nestled in the heart of Green Oaks. This charming 3-bedroom, 2-bathroom home boasts energy-efficient features such as solar panels and a well-insulated structure. Natural light floods the living spaces, highlighting the beautiful hardwood floors and eco-conscious finishes. The open-concept kitchen and dining area lead to a spacious backyard with a solar heated pool and vegetable garden, perfect for the eco-conscious family. Embrace sustainable living without compromising on style in this Green Oaks gem.\n",
    "\n",
    "Neighborhood Description: Green Oaks is a close-knit, environmentally-conscious community with access to organic grocery stores, community gardens, and bike paths. Take a stroll through the nearby Green Oaks Park or grab a cup of coffee at the cozy Green Bean Cafe. With easy access to public transportation and bike lanes, commuting is a breeze.\"\"\""
   ]
  },
  {
   "cell_type": "code",
   "execution_count": 206,
   "id": "86a95045-39bf-4b4c-9231-2d8aa6b5c7d7",
   "metadata": {},
   "outputs": [],
   "source": [
    "listing_list = [example_listing]\n",
    "for k in range(20):\n",
    "    prompt = \"\"\"Please create annother example listing that varies on type (house, condo), size, location, quality, price. Here are ##Examples: {} ##New Example:\"\"\".format('\\n####\\n'.join(random.sample(listing_list, k=min(5, len(listing_list)))))\n",
    "    chat_completion = openai.ChatCompletion.create(model=\"gpt-3.5-turbo\", messages=[{\"role\": \"user\", \"content\": prompt}])\n",
    "    listing_list.append(chat_completion.choices[0].message.content)"
   ]
  },
  {
   "cell_type": "code",
   "execution_count": 207,
   "id": "9dc4ae64-e7bc-4246-aa48-647e241f77f7",
   "metadata": {},
   "outputs": [],
   "source": [
    "# Write listing to file\n",
    "with open(\"listings.txt\", \"w\", encoding=\"utf-8\") as f:\n",
    "    f.write(\"\\n#######\\n\".join(listing_list))"
   ]
  },
  {
   "cell_type": "code",
   "execution_count": 208,
   "id": "e2b9802e-0d90-4d25-8eea-fb581b9e138c",
   "metadata": {},
   "outputs": [],
   "source": [
    "# Load Listing from file\n",
    "with open(\"listings.txt\", \"r\", encoding=\"utf-8\") as f:\n",
    "    listing_list = f.read().strip().split(\"\\n#######\\n\")"
   ]
  },
  {
   "cell_type": "code",
   "execution_count": 209,
   "id": "938e71e4-7b46-4879-92ee-ff8cca26f4ca",
   "metadata": {},
   "outputs": [
    {
     "name": "stdout",
     "output_type": "stream",
     "text": [
      "\n",
      "#######\n",
      "Neighborhood: Beachfront Condos\n",
      "Price: $1,200,000\n",
      "Bedrooms: 2\n",
      "Bathrooms: 2.5\n",
      "Property: Condo \n",
      "View: Oceanfront \n",
      "Size: 1,800 sqft\n",
      "\n",
      "Description: Immerse yourself in luxury living with this stunning beachfront condo in the heart of Beachfront Condos. This 2-bedroom, 2.5-bathroom unit features floor-to-ceiling windows offering breathtaking ocean views from every room. The modern kitchen is equipped with high-end appliances and sleek countertops, perfect for entertaining guests. Enjoy the sunrise and sunset from your private balcony overlooking the sandy beach below. With access to a rooftop pool, gym, and concierge services, this beachfront condo offers the ultimate in comfort and convenience.\n",
      "\n",
      "Neighborhood Description: Beachfront Condos is a prestigious waterfront community with direct access to pristine sandy beaches and a vibrant boardwalk lined with shops and restaurants. Residents can enjoy beach volleyball, water sports, and sunset yoga sessions just steps from their front door. With top-rated schools, upscale shopping centers, and a bustling nightlife scene, Beachfront Condos offers the perfect blend of luxury and beachfront living.\n",
      "\n",
      "#######\n",
      "Neighborhood: Mountain Retreat\n",
      "Price: $600,000\n",
      "Bedrooms: 4\n",
      "Bathrooms: 3\n",
      "Property: House \n",
      "View: Mountain views\n",
      "Size: 2,500 sqft\n",
      "\n",
      "Description: Escape to this peaceful mountain retreat nestled in the serene hills of the Mountain Retreat community. This spacious 4-bedroom, 3-bathroom home offers stunning mountain views from every room, providing a tranquil and picturesque setting. The cozy fireplace in the living room, the gourmet kitchen with granite countertops, and the expansive deck for outdoor entertaining make this home the perfect mountain getaway. With hiking trails and nature reserves just a short drive away, this property offers the ideal blend of comfort and nature.\n",
      "\n",
      "Neighborhood Description: Mountain Retreat is a secluded and upscale mountain community, perfect for those seeking a quiet and nature-filled lifestyle. Residents can enjoy outdoor activities such as hiking, fishing, and birdwatching in the surrounding mountains and forests. With easy access to local breweries, wineries, and farm-to-table restaurants, Mountain Retreat offers the perfect combination of rustic charm and modern amenities.\n",
      "\n",
      "#######\n",
      "Neighborhood: City View Heights\n",
      "Price: $950,000\n",
      "Bedrooms: 5\n",
      "Bathrooms: 3.5\n",
      "Property: House \n",
      "View: City skyline views\n",
      "Size: 3,000 sqft\n",
      "\n",
      "Description: Experience city living at its finest in this contemporary 5-bedroom, 3.5-bathroom home located in the prestigious City View Heights neighborhood. With panoramic city skyline views from the rooftop terrace, this home is perfect for entertaining guests and enjoying the urban landscape. The sleek and modern kitchen features stainless steel appliances and quartz countertops, while the spacious master suite offers a luxurious retreat with a spa-like bathroom. With a landscaped backyard and outdoor dining area, this home offers the perfect blend of urban sophistication and comfort.\n",
      "\n",
      "Neighborhood Description: City View Heights is a vibrant urban community with easy access to trendy restaurants, art galleries, and cultural events. Residents can explore nearby parks and green spaces or take a short walk to the bustling city center for shopping and entertainment. With top-rated schools and convenient public transportation options, City View Heights offers the ideal mix of city living and suburban tranquility.\n"
     ]
    },
    {
     "data": {
      "text/plain": [
       "[None, None, None]"
      ]
     },
     "execution_count": 209,
     "metadata": {},
     "output_type": "execute_result"
    }
   ],
   "source": [
    "[print('\\n#######\\n'+i) for i in listing_list[1:4]]"
   ]
  },
  {
   "cell_type": "markdown",
   "id": "adaafbf2-8619-485b-8ec6-7cece0b74af8",
   "metadata": {},
   "source": [
    "### Step 3: Storing Listings in a Vector Database\n",
    "\n",
    "- Vector Database Setup: Initialize and configure ChromaDB or a similar vector database to store real estate listings.\n",
    "- Generating and Storing Embeddings: Convert the LLM-generated listings into suitable embeddings that capture the semantic content of each listing, and store these embeddings in the vector database."
   ]
  },
  {
   "cell_type": "code",
   "execution_count": 210,
   "id": "7428e4e9-7ea4-4fd4-915e-9674df1368e8",
   "metadata": {},
   "outputs": [],
   "source": [
    "# Run to clear old collections\n",
    "# client_db.delete_collection(\"real_estate_listings\")"
   ]
  },
  {
   "cell_type": "code",
   "execution_count": 211,
   "id": "84f591c1-77e1-4c03-8a1e-57fe4d505918",
   "metadata": {
    "scrolled": true
   },
   "outputs": [
    {
     "name": "stderr",
     "output_type": "stream",
     "text": [
      "Failed to send telemetry event client_start: capture() takes 1 positional argument but 3 were given\n",
      "Failed to send telemetry event collection_add: capture() takes 1 positional argument but 3 were given\n"
     ]
    }
   ],
   "source": [
    "import chromadb\n",
    "from sentence_transformers import SentenceTransformer\n",
    "\n",
    "\n",
    "client_db = chromadb.Client()\n",
    "#client_db.delete_collection(\"real_estate_listings\")\n",
    "collection = client_db.get_or_create_collection(\"real_estate_listings\")\n",
    "\n",
    "embedder = SentenceTransformer('all-mpnet-base-v2')\n",
    "\n",
    "embeddings = embedder.encode(listing_list).tolist()\n",
    "\n",
    "ids = [f\"listing-{i}\" for i in range(len(listing_list))]\n",
    "\n",
    "collection.add(\n",
    "    ids=ids,\n",
    "    documents=listing_list,\n",
    "    embeddings=embeddings\n",
    ")\n",
    "\n",
    "\n"
   ]
  },
  {
   "cell_type": "code",
   "execution_count": 212,
   "id": "3638f5ca-a60f-4603-9cc5-85e5fee5f71b",
   "metadata": {},
   "outputs": [],
   "source": [
    "query_text = \"Condo with balcony in city\"\n",
    "query_embedding = embedder.encode([query_text]).tolist()\n",
    "\n",
    "results = collection.query(\n",
    "    query_embeddings=query_embedding,\n",
    "    n_results=2,\n",
    "    include=['documents', 'distances']\n",
    ")"
   ]
  },
  {
   "cell_type": "code",
   "execution_count": 213,
   "id": "e7c36d47-2792-497c-beae-47d9b7354b08",
   "metadata": {},
   "outputs": [
    {
     "name": "stdout",
     "output_type": "stream",
     "text": [
      "Match (distance: 0.6728): Neighborhood: Urban Skyline Lofts\n",
      "Price: $900,000\n",
      "Bedrooms: 2\n",
      "Bathrooms: 2\n",
      "Property: Condo\n",
      "View: City skyline\n",
      "Size: 1,500 sqft\n",
      "\n",
      "Description: Enjoy modern city living in this sleek urban loft located in the bustling Urban Skyline Lofts community. This 2-bedroom, 2-bathroom condo features floor-to-ceiling windows offering panoramic views of the city skyline, creating a contemporary and vibrant living space. The open concept layout, industrial accents, and high-end appliances in the kitchen make this loft perfect for entertaining. Step out onto the private balcony to soak in the bustling city life below. With access to a rooftop terrace, fitness center, and concierge services, this condo offers a luxurious urban lifestyle.\n",
      "\n",
      "Neighborhood Description: Urban Skyline Lofts is a trendy and cosmopolitan community with access to hip cafes, art galleries, and creative spaces. Residents can explore nearby cultural attractions, trendy boutiques, and vibrant nightlife spots just steps from their front door. With easy access to public transportation and bike-sharing stations, commuting is convenient and eco-friendly. Experience the best of city living in the heart of Urban Skyline Lofts.\n",
      "Match (distance: 0.7167): Neighborhood: City View Heights\n",
      "Price: $950,000\n",
      "Bedrooms: 5\n",
      "Bathrooms: 3.5\n",
      "Property: House \n",
      "View: City skyline views\n",
      "Size: 3,000 sqft\n",
      "\n",
      "Description: Experience city living at its finest in this contemporary 5-bedroom, 3.5-bathroom home located in the prestigious City View Heights neighborhood. With panoramic city skyline views from the rooftop terrace, this home is perfect for entertaining guests and enjoying the urban landscape. The sleek and modern kitchen features stainless steel appliances and quartz countertops, while the spacious master suite offers a luxurious retreat with a spa-like bathroom. With a landscaped backyard and outdoor dining area, this home offers the perfect blend of urban sophistication and comfort.\n",
      "\n",
      "Neighborhood Description: City View Heights is a vibrant urban community with easy access to trendy restaurants, art galleries, and cultural events. Residents can explore nearby parks and green spaces or take a short walk to the bustling city center for shopping and entertainment. With top-rated schools and convenient public transportation options, City View Heights offers the ideal mix of city living and suburban tranquility.\n"
     ]
    }
   ],
   "source": [
    "for doc, dist in zip(results['documents'][0], results['distances'][0]):\n",
    "    print(f\"Match (distance: {dist:.4f}): {doc}\")"
   ]
  },
  {
   "cell_type": "markdown",
   "id": "67770b37-b6b9-4971-855d-c2611d656518",
   "metadata": {},
   "source": [
    "### Step 4: Building the User Preference Interface\n",
    "\n",
    "- Collect buyer preferences, such as the number of bedrooms, bathrooms, location, and other specific requirements from a set of questions or telling the buyer to enter their preferences in natural language. You can hard-code the buyer preferences in questions and answers, or collect them interactively however you'd like:"
   ]
  },
  {
   "cell_type": "markdown",
   "id": "c60af7b4-5326-4ddb-881e-86b143923b1d",
   "metadata": {},
   "source": [
    "- Buyer Preference Parsing: Implement logic to interpret and structure these preferences for querying the vector database."
   ]
  },
  {
   "cell_type": "code",
   "execution_count": 214,
   "id": "dc944d84-6d14-4ace-837b-b30365ce4adc",
   "metadata": {},
   "outputs": [],
   "source": [
    "def ask_questions():\n",
    "    questions = [\n",
    "        \"Please, tell me what you are looking for in a property, such as number of bedrooms, bathrooms, location, and other specific requirements, and I will try to find you a match!\",\n",
    "        \"Is there anything else very important about the property I should consider, such as architecture or features?\",\n",
    "        \"Is there anything else very important about the neighborhood I should consider?\"\n",
    "    ]\n",
    "    \n",
    "    answers = []\n",
    "    for q in questions:\n",
    "        ans = input(q + \" \")\n",
    "        answers.append(ans)\n",
    "    \n",
    "    buyer_wants = \" \".join(answers)\n",
    "\n",
    "    return buyer_wants\n",
    "\n",
    "\n",
    "\n"
   ]
  },
  {
   "cell_type": "code",
   "execution_count": 215,
   "id": "cc24c94a-5961-466a-b5a2-b9fdc4a7b67b",
   "metadata": {},
   "outputs": [
    {
     "name": "stdin",
     "output_type": "stream",
     "text": [
      "Please, tell me what you are looking for in a property, such as number of bedrooms, bathrooms, location, and other specific requirements, and I will try to find you a match!  condo with a balcony in a city centre\n",
      "Is there anything else very important about the property I should consider, such as architecture or features?  modern kitchen\n",
      "Is there anything else very important about the neighborhood I should consider?  lots of coffee shops for writing\n"
     ]
    },
    {
     "name": "stdout",
     "output_type": "stream",
     "text": [
      "condo with a balcony in a city centre modern kitchen lots of coffee shops for writing\n"
     ]
    }
   ],
   "source": [
    "buyer_wants = ask_questions()\n",
    "print(buyer_wants)"
   ]
  },
  {
   "cell_type": "code",
   "execution_count": 216,
   "id": "ea9957ea-6a2f-422e-9df0-689b88f177e0",
   "metadata": {},
   "outputs": [
    {
     "data": {
      "text/plain": [
       "'condo with a balcony in a city centre modern kitchen lots of coffee shops for writing'"
      ]
     },
     "execution_count": 216,
     "metadata": {},
     "output_type": "execute_result"
    }
   ],
   "source": [
    "buyer_wants"
   ]
  },
  {
   "cell_type": "markdown",
   "id": "284f996d-5588-44ad-905a-f89b0b203dab",
   "metadata": {},
   "source": [
    "### Step 5: Searching Based on Preferences\n",
    "\n",
    "- Semantic Search Implementation: Use the structured buyer preferences to perform a semantic search on the vector database, retrieving listings that most closely match the user's requirements.\n",
    "- Listing Retrieval Logic: Fine-tune the retrieval algorithm to ensure that the most relevant listings are selected based on the semantic closeness to the buyer’s preferences."
   ]
  },
  {
   "cell_type": "code",
   "execution_count": 217,
   "id": "0e39edcb-e160-4991-a84b-e12f9a4e3411",
   "metadata": {},
   "outputs": [],
   "source": [
    "def get_property_picks_listingdb(buyer_wants, collection, embedder):\n",
    "\n",
    "    prompt = \"\"\"\n",
    "    You are an AI assistant. Your job is to extract structured buyer preferences from this input.\n",
    "    \n",
    "    Input:\n",
    "    \"{}\"\n",
    "    \n",
    "    Extract as JSON in this format:\n",
    "    {{\n",
    "      \"size\": string,\n",
    "      \"property_type\": string,\n",
    "      \"important_features\": [string, string, string],\n",
    "      \"amenities\": [string, ...],\n",
    "      \"transportation\": string,\n",
    "      \"urban_level\": string,\n",
    "      \"neighborhood_vibes\": string,\n",
    "      \"architectural style\": string,\n",
    "      \"pool\": string\n",
    "    }}\n",
    "    \"\"\".format(buyer_wants)\n",
    "    \n",
    "    response = openai.ChatCompletion.create(model=\"gpt-3.5-turbo\", messages=[{\"role\": \"user\", \"content\": prompt}])\n",
    "    \n",
    "    buyer_profile = response['choices'][0]['message']['content']\n",
    "    print(\" \")\n",
    "    print(\"buyer_profile\")\n",
    "    print(buyer_profile)\n",
    "    \n",
    "    prompt = \"\"\"\n",
    "    You are an AI assistant. Your job is write a description of buyer property that writes a rich natural language paragraph based on the structured input provided.\n",
    "    \n",
    "    Structured Input:\n",
    "    {}\n",
    "    \n",
    "    Desired Output:\n",
    "    \"The buyer is looking for a...\"\n",
    "    \n",
    "    \"\"\".format(buyer_profile)\n",
    "    response = openai.ChatCompletion.create(model=\"gpt-3.5-turbo\", messages=[{\"role\": \"user\", \"content\": prompt}])\n",
    "    buyer_profile_desc = response['choices'][0]['message']['content']\n",
    "    buyer_embedding = embedder.encode([buyer_profile_desc]).tolist()[0]\n",
    "    \n",
    "    results = collection.query(\n",
    "        query_embeddings=[buyer_embedding],\n",
    "        n_results=5, \n",
    "        include=[\"documents\", \"distances\"]\n",
    "    )\n",
    "        \n",
    "    property_pick = results['documents'][0]\n",
    "\n",
    "    return property_pick"
   ]
  },
  {
   "cell_type": "code",
   "execution_count": 218,
   "id": "052be87e-9900-46f6-8152-b6627f30cd87",
   "metadata": {},
   "outputs": [
    {
     "name": "stdout",
     "output_type": "stream",
     "text": [
      " \n",
      "buyer_profile\n",
      "{\n",
      "    \"size\": \"condo\",\n",
      "    \"property_type\": \"condo\",\n",
      "    \"important_features\": [\"balcony\", \"modern kitchen\"],\n",
      "    \"amenities\": [\"lots of coffee shops\"],\n",
      "    \"transportation\": \"city centre\",\n",
      "    \"urban_level\": \"high\",\n",
      "    \"neighborhood_vibes\": \"writing\",\n",
      "    \"architectural style\": \"modern\",\n",
      "    \"pool\": \"not specified\"\n",
      "}\n",
      "\n",
      "#######Neighborhood: Downtown Chic Condos\n",
      "Price: $950,000\n",
      "Bedrooms: 3\n",
      "Bathrooms: 2.5\n",
      "Property: Condo\n",
      "View: City skyline\n",
      "Size: 1,800 sqft\n",
      "\n",
      "Description: Live in style in this modern 3-bedroom, 2.5-bathroom condo located in the heart of the vibrant Downtown Chic Condos community. With floor-to-ceiling windows offering breathtaking views of the city skyline, this condo exudes urban sophistication. The open-concept living space features designer finishes, a gourmet kitchen with sleek appliances, and a private balcony for outdoor enjoyment. The luxurious master suite includes a spa-like bathroom and walk-in closet, creating a peaceful retreat in the midst of the bustling city.\n",
      "\n",
      "Neighborhood Description: Downtown Chic Condos is a trendy urban community with easy access to renowned restaurants, art galleries, and entertainment venues. Residents can explore nearby parks, cultural landmarks, and shopping districts, immersing themselves in the dynamic energy of city life. With public transportation options and a vibrant street scene, Downtown Chic Condos offers a cosmopolitan lifestyle for those seeking a chic and modern urban oasis.\n",
      "\n",
      "#######Neighborhood: Urban Chic Lofts\n",
      "Price: $800,000\n",
      "Bedrooms: 2\n",
      "Bathrooms: 2\n",
      "Property: Condo \n",
      "View: City skyline\n",
      "Size: 1,200 sqft\n",
      "\n",
      "Description: Immerse yourself in the vibrant city life in this stylish urban loft located in the trendy Urban Chic Lofts community. This 2-bedroom, 2-bathroom condo offers panoramic views of the city skyline from large windows, creating a modern and sophisticated ambiance. The open-concept living space features high ceilings, exposed brick walls, and sleek finishes, perfect for contemporary urban living. The gourmet kitchen boasts stainless steel appliances and a large island, ideal for hosting intimate gatherings. With a rooftop terrace for al fresco dining and entertainment, this loft is the epitome of chic city living.\n",
      "\n",
      "Neighborhood Description: Urban Chic Lofts is a sought-after urban community with easy access to restaurants, bars, art galleries, and boutiques for the ultimate city living experience. Residents can explore nearby parks, cultural landmarks, and vibrant street markets, immersing themselves in the eclectic energy of the city. With public transportation options, bike lanes, and walkable streets, Urban Chic Lofts offers a dynamic and cosmopolitan lifestyle in the heart of the city.\n",
      "\n",
      "#######Neighborhood: Urban Skyline Lofts\n",
      "Price: $900,000\n",
      "Bedrooms: 2\n",
      "Bathrooms: 2\n",
      "Property: Condo\n",
      "View: City skyline\n",
      "Size: 1,500 sqft\n",
      "\n",
      "Description: Enjoy modern city living in this sleek urban loft located in the bustling Urban Skyline Lofts community. This 2-bedroom, 2-bathroom condo features floor-to-ceiling windows offering panoramic views of the city skyline, creating a contemporary and vibrant living space. The open concept layout, industrial accents, and high-end appliances in the kitchen make this loft perfect for entertaining. Step out onto the private balcony to soak in the bustling city life below. With access to a rooftop terrace, fitness center, and concierge services, this condo offers a luxurious urban lifestyle.\n",
      "\n",
      "Neighborhood Description: Urban Skyline Lofts is a trendy and cosmopolitan community with access to hip cafes, art galleries, and creative spaces. Residents can explore nearby cultural attractions, trendy boutiques, and vibrant nightlife spots just steps from their front door. With easy access to public transportation and bike-sharing stations, commuting is convenient and eco-friendly. Experience the best of city living in the heart of Urban Skyline Lofts.\n",
      "\n",
      "#######Neighborhood: Urban Lofts\n",
      "Price: $1,200,000\n",
      "Bedrooms: 2\n",
      "Bathrooms: 2.5\n",
      "Property: Condo\n",
      "View: City skyline\n",
      "Size: 2,000 sqft\n",
      "\n",
      "Description: Immerse yourself in city living in this sleek 2-bedroom, 2.5-bathroom loft located in the trendy Urban Lofts community. With floor-to-ceiling windows offering panoramic views of the bustling city skyline, this loft exudes modern sophistication. The open-concept living area features industrial-chic finishes, a gourmet kitchen with quartz countertops, and a private rooftop terrace for entertaining. The spacious master suite includes a spa-like bathroom and walk-in closet, creating a luxurious urban retreat in the heart of the city.\n",
      "\n",
      "Neighborhood Description: Urban Lofts is a vibrant urban community with access to hip restaurants, art galleries, and nightlife hotspots. Residents can explore nearby parks, cultural attractions, and boutique shops, immersing themselves in the dynamic energy of city life. With convenient access to public transportation and a thriving urban scene, Urban Lofts offers a cosmopolitan lifestyle for those seeking a chic and modern city living experience.\n",
      "\n",
      "#######Neighborhood: Coastal Condos\n",
      "Price: $800,000\n",
      "Bedrooms: 3\n",
      "Bathrooms: 2.5\n",
      "Property: Condo\n",
      "View: Ocean view\n",
      "Size: 1,800 sqft\n",
      "\n",
      "Description: Embrace coastal living in this charming condo located in the Coastal Condos community overlooking the sparkling ocean. This 3-bedroom, 2.5-bathroom unit offers breathtaking ocean views from the living room and master bedroom, creating a peaceful and relaxing ambiance. The updated kitchen with stainless steel appliances, spacious living area, and balcony for sipping morning coffee make this condo perfect for seaside living. With access to a community pool, fitness center, and private beach access, this condo offers the ultimate beachfront lifestyle.\n",
      "\n",
      "Neighborhood Description: Coastal Condos is a sought-after oceanfront community with access to beachside activities like surfing, swimming, and beachcombing just steps away. Residents can enjoy coastal hikes, whale-watching, and savoring fresh seafood at nearby restaurants. With convenient access to shopping centers, farmers markets, and outdoor cafes, Coastal Condos provides the perfect blend of relaxation and beach town charm.\n"
     ]
    },
    {
     "data": {
      "text/plain": [
       "[None, None, None, None, None]"
      ]
     },
     "execution_count": 218,
     "metadata": {},
     "output_type": "execute_result"
    }
   ],
   "source": [
    "property_pick = get_property_picks_listingdb(buyer_wants, collection, embedder)\n",
    "[print('\\n#######'+i) for i in property_pick]"
   ]
  },
  {
   "cell_type": "markdown",
   "id": "08b8b2c5-3049-4efe-bd0a-28d09a01c737",
   "metadata": {},
   "source": [
    "### Step 6: Personalizing Listing Descriptions\n",
    "\n",
    "- LLM Augmentation: For each retrieved listing, use the LLM to augment the description, tailoring it to resonate with the buyer’s specific preferences. This involves subtly emphasizing aspects of the property that align with what the buyer is looking for.\n",
    "- Maintaining Factual Integrity: Ensure that the augmentation process enhances the appeal of the listing without altering factual information."
   ]
  },
  {
   "cell_type": "code",
   "execution_count": 219,
   "id": "ed2e2a89-34a3-4926-b427-7a2233ff0495",
   "metadata": {},
   "outputs": [],
   "source": [
    "def get_personalized_listings(buyer_wants, property_pick):\n",
    "    prompt = \"\"\"\n",
    "    You are an AI assistant realestate agent. Your job is to re-write the property listings' Description in a way that highlights aspects most relevant to the buyer’s preferences.\n",
    "    Ensure personalization emphasizes characteristics appealing to the buyer without omitting or altering factual information about the property.\n",
    "    Personalized listing should include all output fields: \"Neighborhood\",\"Price\",\"Bedrooms\",\"Bathrooms\",\"Property\", \"House\", \"Pool\",\"Size\", \"Description\", \"Neighborhood Description\".\n",
    "    \n",
    "    Buyer preferences: {}\n",
    "    \n",
    "    Property Listings: {}\n",
    "    \n",
    "    Desired output:\n",
    "    Return a JSON array. Each element must be an object with two keys:\n",
    "    - \"original\": the original property listing.\n",
    "    - \"personalized\": the rewritten version tailored to the buyer's preferences.\n",
    "    \n",
    "    Example format:\n",
    "    [\n",
    "      {{\n",
    "        \"original\": \"Original listing text here.\",\n",
    "        \"personalized\": \"Personalized version here.\"\n",
    "      }},\n",
    "    ]\n",
    "    \n",
    "    \n",
    "    \"\"\".format(buyer_wants, '\\n\\n'.join(property_pick))\n",
    "    \n",
    "    response = openai.ChatCompletion.create(model=\"gpt-3.5-turbo\", messages=[{\"role\": \"user\", \"content\": prompt}])\n",
    "    \n",
    "    return response['choices'][0]['message']['content']"
   ]
  },
  {
   "cell_type": "code",
   "execution_count": 220,
   "id": "d95fad19-8300-4dde-a518-11e203c5ba59",
   "metadata": {},
   "outputs": [],
   "source": [
    "personalized_picks = get_personalized_listings(buyer_wants, property_pick)\n",
    "import json\n",
    "\n",
    "data = json.loads(personalized_picks)"
   ]
  },
  {
   "cell_type": "code",
   "execution_count": 221,
   "id": "f1c14d4c-beaa-4a18-9b85-7780904c1259",
   "metadata": {},
   "outputs": [
    {
     "data": {
      "text/plain": [
       "{'original': {'Neighborhood': 'Urban Chich Lofts',\n",
       "  'Price': '$800,000',\n",
       "  'Bedrooms': 2,\n",
       "  'Bathrooms': 2,\n",
       "  'Property': 'Condo',\n",
       "  'View': 'City skyline',\n",
       "  'Size': '1,200 sqft',\n",
       "  'Description': 'Immerse yourself in the vibrant city life in this stylish urban loft located in the trendy Urban Chic Lofts community. This 2-bedroom, 2-bathroom condo offers panoramic views of the city skyline from large windows, creating a modern and sophisticated ambiance. The open-concept living space features high ceilings, exposed brick walls, and sleek finishes, perfect for contemporary urban living. The gourmet kitchen boasts stainless steel appliances and a large island, ideal for hosting intimate gatherings. With a rooftop terrace for al fresco dining and entertainment, this loft is the epitome of chic city living.',\n",
       "  'Neighborhood Description': 'Urban Chic Lofts is a sought-after urban community with easy access to restaurants, bars, art galleries, and boutiques for the ultimate city living experience. Residents can explore nearby parks, cultural landmarks, and vibrant street markets, immersing themselves in the eclectic energy of the city. With public transportation options, bike lanes, and walkable streets, Urban Chic Lofts offers a dynamic and cosmopolitan lifestyle in the heart of the city.'},\n",
       " 'personalized': {'Neighborhood': 'Urban Chic Lofts',\n",
       "  'Price': '$800,000',\n",
       "  'Bedrooms': 2,\n",
       "  'Bathrooms': 2,\n",
       "  'Property': 'Condo',\n",
       "  'Size': '1,200 sqft',\n",
       "  'Description': 'Immerse yourself in the vibrant city life in this stylish 2-bedroom, 2-bathroom condo located in the trendy Urban Chic Lofts community. With a modern kitchen featuring stainless steel appliances for your writing comfort, a private balcony for your writing inspiration, and easy access to lots of coffee shops for your writing convenience, this condo is the perfect urban sanctuary for a writer like you. The city skyline views from the large windows will fuel your creative endeavors.',\n",
       "  'Neighborhood Description': 'Urban Chic Lofts is a sought-after urban community with an abundance of coffee shops, ideal for a writer like you seeking creative inspiration. With easy access to restaurants, bars, and boutiques, this community offers the ultimate city living experience tailored to your preferences.'}}"
      ]
     },
     "execution_count": 221,
     "metadata": {},
     "output_type": "execute_result"
    }
   ],
   "source": [
    "data[1]"
   ]
  },
  {
   "cell_type": "markdown",
   "id": "61161f64-4c28-4eaf-b439-1265b1aa211c",
   "metadata": {},
   "source": [
    "### Step 7: Deliverables and Testing\n",
    "\n",
    "- Test your \"HomeMatch\" application and make sure it meets all of the requirements in the rubric(opens in a new tab). Your project code will be run when it's assessed. Enter different \"buyer preferences\" and ensure it works.\n",
    "- Jupyter Notebook/Python Program: Compile the application code in a Jupyter notebook or a standalone Python program. Ensure the code is well-commented and logically structured.\n",
    "- Example Outputs: Include example outputs showcasing how user preferences are processed and how the application generates personalized listing descriptions. You can include these in comments in your application or in a Jupyter notebook that's saved with outputs."
   ]
  },
  {
   "cell_type": "code",
   "execution_count": 222,
   "id": "10ce6e45-88a7-4b3c-91bc-9e2b6484741f",
   "metadata": {},
   "outputs": [
    {
     "name": "stdout",
     "output_type": "stream",
     "text": [
      "[\n",
      "    \"I am looking for a condo with 2 bedrooms and 2 bathrooms, ideally located in a bustling urban area close to restaurants and entertainment venues.\",\n",
      "    \"I would also like a property with a modern minimalist architecture and sleek finishes. It is important to me that the condo has smart home features and a balcony with a city view.\",\n",
      "    \"It is important that the neighborhood is vibrant with a lively atmosphere, good public transportation options, and access to cultural events and attractions.\"\n",
      "]\n"
     ]
    }
   ],
   "source": [
    "def get_question_answers(previous_example):\n",
    "    prompt = \"\"\"\n",
    "    You are a propsective home buyer answering questions. Please answers the following questions \n",
    "    with that background in mind. Be unique from previous answers provided and choose between whether you want a house or condo:\n",
    "\n",
    "    Background:\n",
    "    \n",
    "    questions = [\n",
    "        \"Please, tell me what you are looking for in a property, such as number of bedrooms, bathrooms, location, and other specific requirements, and I will try to find you a match!\",\n",
    "        \"Is there anything else very important about the property I should consider, such as architecture or features?\",\n",
    "        \"Is there anything else very important about the neighborhood I should consider?\"\n",
    "    ]\n",
    "\n",
    "    Previous Example: {}\n",
    "    \n",
    "    Desired output:\n",
    "    Python List, Each element must be a string answering the questions above. Do not include number answers in response.  \n",
    "    \n",
    "    \"\"\".format(previous_example)\n",
    "    \n",
    "    response = openai.ChatCompletion.create(model=\"gpt-3.5-turbo\", messages=[{\"role\": \"user\", \"content\": prompt}])\n",
    "    \n",
    "    return response['choices'][0]['message']['content']\n",
    "\n",
    "previous_example= ['I am looking for a house with at least 3 bedrooms, 2 bathrooms, preferably in a quiet suburban area with good schools nearby.', \n",
    "                   'I would also like a backyard for gardening and a garage for storage. It is very important to me that the property has a modern and open floor plan, with plenty of natural light. I also prefer a home with energy-efficient appliances.',\n",
    "                   'It is important that the neighborhood is safe, with low crime rates and friendly neighbors. Access to parks, walking trails, and convenient shopping centers would be a plus.']\n",
    "\n",
    "buyer_wants = get_question_answers(previous_example)\n",
    "print(buyer_wants)"
   ]
  },
  {
   "cell_type": "markdown",
   "id": "a1a1b3af-5bf0-4de3-b021-e34e30a49c07",
   "metadata": {},
   "source": [
    "### Example 1"
   ]
  },
  {
   "cell_type": "code",
   "execution_count": 223,
   "id": "48f98644-f784-4e0c-9b08-888fd2472c8b",
   "metadata": {},
   "outputs": [
    {
     "name": "stdout",
     "output_type": "stream",
     "text": [
      " \n",
      "buyer_profile\n",
      "{\n",
      "    \"size\": \"3 bedrooms\",\n",
      "    \"property_type\": \"house\",\n",
      "    \"important_features\": [\"wraparound porch\", \"fireplace\", \"spacious backyard\"],\n",
      "    \"amenities\": [\"good schools\", \"parks nearby\", \"grocery stores\", \"local shops\"],\n",
      "    \"transportation\": \"not specified\",\n",
      "    \"urban_level\": \"suburban\",\n",
      "    \"neighborhood_vibes\": \"quiet\",\n",
      "    \"architectural style\": \"not specified\",\n",
      "    \"pool\": \"not specified\"\n",
      "}\n"
     ]
    }
   ],
   "source": [
    "buyer_wants = get_question_answers(buyer_wants)\n",
    "property_pick = get_property_picks_listingdb(buyer_wants, collection, embedder)\n",
    "personalized_picks = get_personalized_listings(buyer_wants, property_pick)\n"
   ]
  },
  {
   "cell_type": "code",
   "execution_count": 224,
   "id": "6db52863-83bd-4fcb-a463-f35194e57585",
   "metadata": {},
   "outputs": [
    {
     "name": "stdout",
     "output_type": "stream",
     "text": [
      "```\n",
      "\"I am looking for a house with 3 bedrooms and 2 bathrooms, preferably in a quiet suburban neighborhood with good schools and parks nearby.\"\n",
      "\"I really love houses with a wraparound porch and a fireplace. It would be great if the property has a spacious backyard for gardening and outdoor activities.\"\n",
      "\"I value neighborhoods that have a strong sense of community, low crime rates, and easy access to grocery stores and local shops.\"\n",
      "```\n"
     ]
    }
   ],
   "source": [
    "print(buyer_wants)"
   ]
  },
  {
   "cell_type": "code",
   "execution_count": 225,
   "id": "721c9f39-c267-4009-b9f3-0e5a2014ffae",
   "metadata": {},
   "outputs": [
    {
     "name": "stdout",
     "output_type": "stream",
     "text": [
      "[\n",
      "    {\n",
      "        \"original\": {\n",
      "            \"Neighborhood\": \"City View Heights\",\n",
      "            \"Price\": \"$950,000\",\n",
      "            \"Bedrooms\": 5,\n",
      "            \"Bathrooms\": 3.5,\n",
      "            \"Property\": \"House\",\n",
      "            \"View\": \"City skyline views\",\n",
      "            \"Size\": \"3,000 sqft\",\n",
      "            \"Description\": \"Experience city living at its finest in this contemporary 5-bedroom, 3.5-bathroom home located in the prestigious City View Heights neighborhood. With panoramic city skyline views from the rooftop terrace, this home is perfect for entertaining guests and enjoying the urban landscape. The sleek and modern kitchen features stainless steel appliances and quartz countertops, while the spacious master suite offers a luxurious retreat with a spa-like bathroom. With a landscaped backyard and outdoor dining area, this home offers the perfect blend of urban sophistication and comfort.\",\n",
      "            \"Neighborhood Description\": \"City View Heights is a vibrant urban community with easy access to trendy restaurants, art galleries, and cultural events. Residents can explore nearby parks and green spaces or take a short walk to the bustling city center for shopping and entertainment. With top-rated schools and convenient public transportation options, City View Heights offers the ideal mix of city living and suburban tranquility.\"\n",
      "        },\n",
      "        \"personalized\": {\n",
      "            \"Neighborhood\": \"City View Heights\",\n",
      "            \"Price\": \"$950,000\",\n",
      "            \"Bedrooms\": 5,\n",
      "            \"Bathrooms\": 3.5,\n",
      "            \"Property\": \"House\",\n",
      "            \"View\": \"City skyline views\",\n",
      "            \"Size\": \"3,000 sqft\",\n",
      "            \"Description\": \"Indulge in city living at its finest in this contemporary 5-bedroom, 3.5-bathroom home located in the vibrant City View Heights neighborhood. While this home offers panoramic city skyline views from the rooftop terrace, it also provides a spacious backyard for gardening and outdoor activities. The wraparound porch and fireplace add a touch of charm, perfect for enjoying the urban landscape. The neighborhood boasts good schools and parks nearby, making it an ideal location for a family seeking a quiet suburban setting.\"\n",
      "        }\n",
      "    },\n",
      "    {\n",
      "        \"original\": {\n",
      "            \"Neighborhood\": \"Green Oaks\",\n",
      "            \"Price\": \"$800,000\",\n",
      "            \"Bedrooms\": 3,\n",
      "            \"Bathrooms\": 2,\n",
      "            \"Property\": \"House\",\n",
      "            \"Pool\": \"In-ground\",\n",
      "            \"Size\": \"2,000 sqft\",\n",
      "            \"Description\": \"Welcome to this eco-friendly oasis nestled in the heart of Green Oaks. This charming 3-bedroom, 2-bathroom home boasts energy-efficient features such as solar panels and a well-insulated structure. Natural light floods the living spaces, highlighting the beautiful hardwood floors and eco-conscious finishes. The open-concept kitchen and dining area lead to a spacious backyard with a solar heated pool and vegetable garden, perfect for the eco-conscious family. Embrace sustainable living without compromising on style in this Green Oaks gem.\",\n",
      "            \"Neighborhood Description\": \"Green Oaks is a close-knit, environmentally-conscious community with access to organic grocery stores, community gardens, and bike paths. Take a stroll through the nearby Green Oaks Park or grab a cup of coffee at the cozy Green Bean Cafe. With easy access to public transportation and bike lanes, commuting is a breeze.\"\n",
      "        },\n",
      "        \"personalized\": {\n",
      "            \"Neighborhood\": \"Green Oaks\",\n",
      "            \"Price\": \"$800,000\",\n",
      "            \"Bedrooms\": 3,\n",
      "            \"Bathrooms\": 2,\n",
      "            \"Property\": \"House\",\n",
      "            \"Pool\": \"In-ground\",\n",
      "            \"Size\": \"2,000 sqft\",\n",
      "            \"Description\": \"Welcome to this eco-friendly oasis nestled in the heart of Green Oaks. This charming 3-bedroom, 2-bathroom home boasts energy-efficient features such as solar panels and a well-insulated structure. Natural light floods the living spaces, highlighting the beautiful hardwood floors and eco-conscious finishes. The wraparound porch and fireplace add a cozy touch, perfect for enjoying the spacious backyard for gardening and outdoor activities. In the environmentally-conscious community of Green Oaks, residents will appreciate the strong sense of community and easy access to grocery stores and local shops.\"\n",
      "        }\n",
      "    },\n",
      "    {\n",
      "        \"original\": {\n",
      "            \"Neighborhood\": \"Riverfront Estates\",\n",
      "            \"Price\": \"$2,000,000\",\n",
      "            \"Bedrooms\": 7,\n",
      "            \"Bathrooms\": 6,\n",
      "            \"Property\": \"House\",\n",
      "            \"View\": \"Riverfront\",\n",
      "            \"Size\": \"7,000 sqft\",\n",
      "            \"Description\": \"Experience luxury living in this grand riverfront estate located in the prestigious Riverfront Estates neighborhood. This expansive 7-bedroom, 6-bathroom home offers panoramic views of the river from every room, creating a serene and picturesque setting. The gourmet chef's kitchen features high-end appliances and custom cabinetry, perfect for hosting elegant dinner parties. The lush landscaped gardens, outdoor pool, and private boat dock provide the ultimate in outdoor entertainment and relaxation. With high-quality finishes and a spacious layout, this home is ideal for those seeking opulence and waterfront living.\",\n",
      "            \"Neighborhood Description\": \"Riverfront Estates is an exclusive riverside community with access to boating, fishing, and water activities right in your backyard. Residents can enjoy peaceful walks along the riverbank or relax in the community's private park and picnic area. With top-rated schools, upscale dining options, and convenient access to shopping centers, Riverfront Estates offers a luxurious and serene setting for those seeking a waterfront lifestyle.\"\n",
      "        },\n",
      "        \"personalized\": {\n",
      "            \"Neighborhood\": \"Riverfront Estates\",\n",
      "            \"Price\": \"$2,000,000\",\n",
      "            \"Bedrooms\": 7,\n",
      "            \"Bathrooms\": 6,\n",
      "            \"Property\": \"House\",\n",
      "            \"View\": \"Riverfront\",\n",
      "            \"Size\": \"7,000 sqft\",\n",
      "            \"Description\": \"Experience luxury living in this grand riverfront estate located in the prestigious Riverfront Estates neighborhood. This expansive 7-bedroom, 6-bathroom home offers panoramic views of the river from every room, creating a serene and picturesque setting. The gourmet chef's kitchen features high-end appliances and custom cabinetry, perfect for hosting elegant dinner parties. The spacious backyard with a wraparound porch and fireplace provides the ideal space for gardening and outdoor activities. In the luxurious community of Riverfront Estates, residents will appreciate the strong sense of community and easy access to grocery stores and local shops.\"\n",
      "        }\n",
      "    },\n",
      "    {\n",
      "        \"original\": {\n",
      "            \"Neighborhood\": \"Lakeside Villas\",\n",
      "            \"Price\": \"$950,000\",\n",
      "            \"Bedrooms\": 4,\n",
      "            \"Bathrooms\": 3.5,\n",
      "            \"Property\": \"House\",\n",
      "            \"View\": \"Lakefront\",\n",
      "            \"Size\": \"3,000 sqft\",\n",
      "            \"Description\": \"Experience lakeside luxury living in this elegant 4-bedroom, 3.5-bathroom home located in the prestigious Lakeside Villas community. The spacious and bright interior features high ceilings, hardwood floors, and a gourmet chef's kitchen with top-of-the-line appliances. Enjoy stunning views of the tranquil lake from the master suite balcony or the expansive outdoor patio perfect for entertaining. With a private dock for water activities, a lushly landscaped yard, and a cozy fireplace in the living room, this lakeside villa offers the perfect blend of comfort and sophistication.\",\n",
      "            \"Neighborhood Description\": \"Lakeside Villas is an exclusive waterfront community offering residents access to boating, fishing, and water sports on the picturesque lake. Enjoy a leisurely stroll along the scenic walking paths, relax by the community pool, or socialize at the clubhouse. With top-rated schools, upscale dining options, and shopping centers nearby, Lakeside Villas provides a serene and upscale lifestyle for those seeking lakeside living.\"\n",
      "        },\n",
      "        \"personalized\": {\n",
      "            \"Neighborhood\": \"Lakeside Villas\",\n",
      "            \"Price\": \"$950,000\",\n",
      "            \"Bedrooms\": 4,\n",
      "            \"Bathrooms\": 3.5,\n",
      "            \"Property\": \"House\",\n",
      "            \"View\": \"Lakefront\",\n",
      "            \"Size\": \"3,000 sqft\",\n",
      "            \"Description\": \"Experience lakeside luxury living in this elegant 4-bedroom, 3.5-bathroom home located in the prestigious Lakeside Villas community. The spacious and bright interior features high ceilings, hardwood floors, and a gourmet chef's kitchen with top-of-the-line appliances. Enjoy stunning views of the tranquil lake from the master suite balcony or the expansive outdoor patio perfect for entertaining. With a private dock for water activities, a lushly landscaped yard, and a cozy fireplace in the living room, this lakeside villa offers the perfect blend of comfort and sophistication.\",\n",
      "            \"Neighborhood Description\": \"Lakeside Villas is an exclusive waterfront community offering residents access to boating, fishing, and water sports on the picturesque lake. Enjoy a leisurely stroll along the scenic walking paths, relax by the community pool, or socialize at the clubhouse. With top-rated schools, upscale dining options, and shopping centers nearby, Lakeside Villas provides a serene and upscale lifestyle for those seeking lakeside living.\"\n",
      "        }\n",
      "    },\n",
      "    {\n",
      "        \"original\": {\n",
      "            \"Neighborhood\": \"Lakefront Villas\",\n",
      "            \"Price\": \"$1,500,000\",\n",
      "            \"Bedrooms\": 5,\n",
      "            \"Bathrooms\": 4,\n",
      "            \"Property\": \"House\",\n",
      "            \"View\": \"Lakefront\",\n",
      "            \"Size\": \"3,500 sqft\",\n",
      "            \"Description\": \"Indulge in waterfront living in this elegant lakefront villa located in the prestigious Lakefront Villas community. This 5-bedroom, 4-bathroom home offers panoramic views of the tranquil lake from every room, creating a serene and luxurious atmosphere. The chef's kitchen features top-of-the-line appliances and a spacious island, making it perfect for entertaining guests. Step outside to the expansive deck with a built-in BBQ area and private boat dock, ideal for lakeside gatherings and water activities. With high-quality finishes and a spacious layout, this villa epitomizes waterfront living at its finest.\",\n",
      "            \"Neighborhood Description\": \"Lakefront Villas is an upscale lakeside community with access to boating, fishing, and water sports right in your backyard. Residents can enjoy peaceful walks along the lakefront or relax on the community's private beach. With top-rated schools, fine dining options, and boutique shops nearby, Lakefront Villas offers a luxury lifestyle with a picturesque backdrop.\"\n",
      "        },\n",
      "        \"personalized\": {\n",
      "            \"Neighborhood\": \"Lakefront Villas\",\n",
      "            \"Price\": \"$1,500,000\",\n",
      "            \"Bedrooms\": 5,\n",
      "            \"Bathrooms\": 4,\n",
      "            \"Property\": \"House\",\n",
      "            \"View\": \"Lakefront\",\n",
      "            \"Size\": \"3,500 sqft\",\n",
      "            \"Description\": \"Indulge in waterfront living in this elegant lakefront villa located in the prestigious Lakefront Villas community. This 5-bedroom, 4-bathroom home offers panoramic views of the tranquil lake from every room, creating a serene and luxurious atmosphere. The chef's kitchen features top-of-the-line appliances and a spacious island, making it perfect for entertaining guests. Step outside to the expansive deck with a built-in BBQ area and private boat dock, ideal for lakeside gatherings and water activities. With high-quality finishes and a spacious layout, this villa epitomizes waterfront living at its finest.\",\n",
      "            \"Neighborhood Description\": \"Lakefront Villas is an upscale lakeside community with access to boating, fishing, and water sports right in your backyard. Residents can enjoy peaceful walks along the lakefront or relax on the community's private beach. With top-rated schools, fine dining options, and boutique shops nearby, Lakefront Villas offers a luxury lifestyle with a picturesque backdrop.\"\n",
      "        }\n",
      "    }\n",
      "]\n"
     ]
    }
   ],
   "source": [
    "print(personalized_picks)"
   ]
  },
  {
   "cell_type": "markdown",
   "id": "a6bddf02-100b-448b-9adf-8941620a9a8e",
   "metadata": {},
   "source": [
    "### Example 2"
   ]
  },
  {
   "cell_type": "code",
   "execution_count": 226,
   "id": "237dadfa-8ab8-4029-a3d1-fbba12498bb9",
   "metadata": {},
   "outputs": [
    {
     "name": "stdout",
     "output_type": "stream",
     "text": [
      " \n",
      "buyer_profile\n",
      "{\n",
      "      \"size\": \"2 bedrooms and 2 bathrooms\",\n",
      "      \"property_type\": \"condo\",\n",
      "      \"important_features\": [\"vibrant urban area\", \"trendy restaurants\", \"cafes nearby\"],\n",
      "      \"amenities\": [\"rooftop terrace\", \"gym facilities\"],\n",
      "      \"transportation\": \"walkable neighborhood\",\n",
      "      \"urban_level\": \"high\",\n",
      "      \"neighborhood_vibes\": \"variety of entertainment options, safe for living alone\",\n",
      "      \"architectural style\": \"modern\",\n",
      "      \"pool\": \"not specified\"\n",
      "    }\n"
     ]
    }
   ],
   "source": [
    "buyer_wants = get_question_answers(buyer_wants)\n",
    "property_pick = get_property_picks_listingdb(buyer_wants, collection, embedder)\n",
    "personalized_picks = get_personalized_listings(buyer_wants, property_pick)"
   ]
  },
  {
   "cell_type": "code",
   "execution_count": 227,
   "id": "8126d1f7-412b-4c97-b2a8-7e4a0212eb66",
   "metadata": {},
   "outputs": [
    {
     "name": "stdout",
     "output_type": "stream",
     "text": [
      "\"I am looking for a condo with 2 bedrooms and 2 bathrooms, located in a vibrant urban area with trendy restaurants and cafes nearby.\"\n",
      "\"I am particularly interested in condos with modern architecture and amenities such as a rooftop terrace or gym facilities.\"\n",
      "\"I prioritize neighborhoods that are walkable, have a variety of entertainment options, and are safe for living alone.\"\n"
     ]
    }
   ],
   "source": [
    "print(buyer_wants)"
   ]
  },
  {
   "cell_type": "code",
   "execution_count": 228,
   "id": "66cea273-7fde-43b2-99e5-681f6218079a",
   "metadata": {},
   "outputs": [
    {
     "name": "stdout",
     "output_type": "stream",
     "text": [
      "[\n",
      "  {\n",
      "    \"original\": {\n",
      "      \"Neighborhood\": \"Downtown Chic Condos\",\n",
      "      \"Price\": \"$950,000\",\n",
      "      \"Bedrooms\": 3,\n",
      "      \"Bathrooms\": 2.5,\n",
      "      \"Property\": \"Condo\",\n",
      "      \"View\": \"City skyline\",\n",
      "      \"Size\": \"1,800 sqft\",\n",
      "      \"Description\": \"Live in style in this modern 3-bedroom, 2.5-bathroom condo located in the heart of the vibrant Downtown Chic Condos community. With floor-to-ceiling windows offering breathtaking views of the city skyline, this condo exudes urban sophistication. The open-concept living space features designer finishes, a gourmet kitchen with sleek appliances, and a private balcony for outdoor enjoyment. The luxurious master suite includes a spa-like bathroom and walk-in closet, creating a peaceful retreat in the midst of the bustling city.\",\n",
      "      \"Neighborhood Description\": \"Downtown Chic Condos is a trendy urban community with easy access to renowned restaurants, art galleries, and entertainment venues. Residents can explore nearby parks, cultural landmarks, and shopping districts, immersing themselves in the dynamic energy of city life. With public transportation options and a vibrant street scene, Downtown Chic Condos offers a cosmopolitan lifestyle for those seeking a chic and modern urban oasis.\"\n",
      "    },\n",
      "    \"personalized\": {\n",
      "      \"Neighborhood\": \"Downtown Chic Condos\",\n",
      "      \"Price\": \"$950,000\",\n",
      "      \"Bedrooms\": 2, \n",
      "      \"Bathrooms\": 2, \n",
      "      \"Property\": \"Condo\",\n",
      "      \"View\": \"City skyline\",\n",
      "      \"Size\": \"1,800 sqft\",\n",
      "      \"Description\": \"Immerse yourself in city life in this stylish 2-bedroom, 2-bathroom condo located in the heart of the vibrant Downtown Chic Condos community. With floor-to-ceiling windows offering panoramic views of the city skyline, this condo exudes urban sophistication. The open-concept living space features designer finishes, a gourmet kitchen with sleek appliances, and a private balcony for outdoor enjoyment. The luxurious master suite includes a spa-like bathroom and walk-in closet, creating a peaceful retreat in the midst of the bustling city.\",\n",
      "      \"Neighborhood Description\": \"Downtown Chic Condos is a trendy urban community with easy access to renowned restaurants, art galleries, and entertainment venues. Residents can explore nearby parks, cultural landmarks, and shopping districts, immersing themselves in the dynamic energy of city life. With public transportation options and a vibrant street scene, Downtown Chic Condos offers a cosmopolitan lifestyle for those seeking a chic and modern urban oasis.\"\n",
      "    }\n",
      "  },\n",
      "  {\n",
      "    \"original\": {\n",
      "      \"Neighborhood\": \"Urban Chic Lofts\",\n",
      "      \"Price\": \"$800,000\",\n",
      "      \"Bedrooms\": 2,\n",
      "      \"Bathrooms\": 2,\n",
      "      \"Property\": \"Condo\",\n",
      "      \"View\": \"City skyline\",\n",
      "      \"Size\": \"1,200 sqft\",\n",
      "      \"Description\": \"Immerse yourself in the vibrant city life in this stylish urban loft located in the trendy Urban Chic Lofts community. This 2-bedroom, 2-bathroom condo offers panoramic views of the city skyline from large windows, creating a modern and sophisticated ambiance. The open-concept living space features high ceilings, exposed brick walls, and sleek finishes, perfect for contemporary urban living. The gourmet kitchen boasts stainless steel appliances and a large island, ideal for hosting intimate gatherings. With a rooftop terrace for al fresco dining and entertainment, this loft is the epitome of chic city living.\",\n",
      "      \"Neighborhood Description\": \"Urban Chic Lofts is a sought-after urban community with easy access to restaurants, bars, art galleries, and boutiques for the ultimate city living experience. Residents can explore nearby parks, cultural landmarks, and vibrant street markets, immersing themselves in the eclectic energy of the city. With public transportation options, bike lanes, and walkable streets, Urban Chic Lofts offers a dynamic and cosmopolitan lifestyle in the heart of the city.\"\n",
      "    },\n",
      "    \"personalized\": {\n",
      "      \"Neighborhood\": \"Urban Chic Lofts\",\n",
      "      \"Price\": \"$800,000\",\n",
      "      \"Bedrooms\": 2,\n",
      "      \"Bathrooms\": 2,\n",
      "      \"Property\": \"Condo\",\n",
      "      \"View\": \"City skyline\",\n",
      "      \"Size\": \"1,200 sqft\",\n",
      "      \"Description\": \"Immerse yourself in city living in this modern 2-bedroom, 2-bathroom loft located in the trendy Urban Chic Lofts community. This condo offers panoramic views of the city skyline from large windows, creating a modern and sophisticated ambiance. The open-concept living space features high ceilings, exposed brick walls, and sleek finishes, perfect for contemporary urban living. The gourmet kitchen boasts stainless steel appliances and a large island, ideal for hosting intimate gatherings. With a rooftop terrace for al fresco dining and entertainment, this loft is the epitome of chic city living.\",\n",
      "      \"Neighborhood Description\": \"Urban Chic Lofts is a sought-after urban community with easy access to restaurants, bars, art galleries, and boutiques for the ultimate city living experience. Residents can explore nearby parks, cultural landmarks, and vibrant street markets, immersing themselves in the eclectic energy of the city. With public transportation options, bike lanes, and walkable streets, Urban Chic Lofts offers a dynamic and cosmopolitan lifestyle in the heart of the city.\"\n",
      "    }\n",
      "  },\n",
      "  {\n",
      "    \"original\": {\n",
      "      \"Neighborhood\": \"Urban Skyline Lofts\",\n",
      "      \"Price\": \"$900,000\",\n",
      "      \"Bedrooms\": 2,\n",
      "      \"Bathrooms\": 2,\n",
      "      \"Property\": \"Condo\",\n",
      "      \"View\": \"City skyline\",\n",
      "      \"Size\": \"1,500 sqft\",\n",
      "      \"Description\": \"Enjoy modern city living in this sleek urban loft located in the bustling Urban Skyline Lofts community. This 2-bedroom, 2-bathroom condo features floor-to-ceiling windows offering panoramic views of the city skyline, creating a contemporary and vibrant living space. The open concept layout, industrial accents, and high-end appliances in the kitchen make this loft perfect for entertaining. Step out onto the private balcony to soak in the bustling city life below. With access to a rooftop terrace, fitness center, and concierge services, this condo offers a luxurious urban lifestyle.\",\n",
      "      \"Neighborhood Description\": \"Urban Skyline Lofts is a trendy and cosmopolitan community with access to hip cafes, art galleries, and creative spaces. Residents can explore nearby cultural attractions, trendy boutiques, and vibrant nightlife spots just steps from their front door. With easy access to public transportation and bike-sharing stations, commuting is convenient and eco-friendly. Experience the best of city living in the heart of Urban Skyline Lofts.\"\n",
      "    },\n",
      "    \"personalized\": {\n",
      "      \"Neighborhood\": \"Urban Skyline Lofts\",\n",
      "      \"Price\": \"$900,000\",\n",
      "      \"Bedrooms\": 2,\n",
      "      \"Bathrooms\": 2,\n",
      "      \"Property\": \"Condo\",\n",
      "      \"View\": \"City skyline\",\n",
      "      \"Size\": \"1,500 sqft\",\n",
      "      \"Description\": \"Immerse yourself in city life in this modern 2-bedroom, 2-bathroom loft located in the bustling Urban Skyline Lofts community. This condo features floor-to-ceiling windows offering panoramic views of the city skyline, creating a contemporary and vibrant living space. The open concept layout, industrial accents, and high-end appliances in the kitchen make this loft perfect for entertaining. Step out onto the private balcony to soak in the bustling city life below. With access to a rooftop terrace, fitness center, and concierge services, this condo offers a luxurious urban lifestyle.\",\n",
      "      \"Neighborhood Description\": \"Urban Skyline Lofts is a trendy and cosmopolitan community with access to hip cafes, art galleries, and creative spaces. Residents can explore nearby cultural attractions, trendy boutiques, and vibrant nightlife spots just steps from their front door. With easy access to public transportation and bike-sharing stations, commuting is convenient and eco-friendly. Experience the best of city living in the heart of Urban Skyline Lofts.\"\n",
      "    }\n",
      "  },\n",
      "  {\n",
      "    \"original\": {\n",
      "      \"Neighborhood\": \"Urban Lofts\",\n",
      "      \"Price\": \"$1,200,000\",\n",
      "      \"Bedrooms\": 2,\n",
      "      \"Bathrooms\": 2.5,\n",
      "      \"Property\": \"Condo\",\n",
      "      \"View\": \"City skyline\",\n",
      "      \"Size\": \"2,000 sqft\",\n",
      "      \"Description\": \"Immerse yourself in city living in this sleek 2-bedroom, 2.5-bathroom loft located in the trendy Urban Lofts community. With floor-to-ceiling windows offering panoramic views of the bustling city skyline, this loft exudes modern sophistication. The open-concept living area features industrial-chic finishes, a gourmet kitchen with quartz countertops, and a private rooftop terrace for entertaining. The spacious master suite includes a spa-like bathroom and walk-in closet, creating a luxurious urban retreat in the heart of the city.\",\n",
      "      \"Neighborhood Description\": \"Urban Lofts is a vibrant urban community with access to hip restaurants, art galleries, and nightlife hotspots. Residents can explore nearby parks, cultural attractions, and boutique shops, immersing themselves in the dynamic energy of city life. With convenient access to public transportation and a thriving urban scene, Urban Lofts offers a cosmopolitan lifestyle for those seeking a chic and modern city living experience.\"\n",
      "    },\n",
      "    \"personalized\": {\n",
      "      \"Neighborhood\": \"Urban Lofts\",\n",
      "      \"Price\": \"$1,200,000\",\n",
      "      \"Bedrooms\": 2,\n",
      "      \"Bathrooms\": 2.5,\n",
      "      \"Property\": \"Condo\",\n",
      "      \"View\": \"City skyline\",\n",
      "      \"Size\": \"2,000 sqft\",\n",
      "      \"Description\": \"Immerse yourself in city life in this stylish 2-bedroom, 2.5-bathroom loft located in the trendy Urban Lofts community. With floor-to-ceiling windows offering panoramic views of the bustling city skyline, this loft exudes modern sophistication. The open-concept living area features industrial-chic finishes, a gourmet kitchen with quartz countertops, and a private rooftop terrace for entertaining. The spacious master suite includes a spa-like bathroom and walk-in closet, creating a luxurious urban retreat in the heart of the city.\",\n",
      "      \"Neighborhood Description\": \"Urban Lofts is a vibrant urban community with access to hip restaurants, art galleries, and nightlife hotspots. Residents can explore nearby parks, cultural attractions, and boutique shops, immersing themselves in the dynamic energy of city life. With convenient access to public transportation and a thriving urban scene, Urban Lofts offers a cosmopolitan lifestyle for those seeking a chic and modern city living experience.\"\n",
      "    }\n",
      "  },\n",
      "  {\n",
      "    \"original\": {\n",
      "      \"Neighborhood\": \"Beachfront Condos\",\n",
      "      \"Price\": \"$1,200,000\",\n",
      "      \"Bedrooms\": 2,\n",
      "      \"Bathrooms\": 2.5,\n",
      "      \"Property\": \"Condo\",\n",
      "      \"View\": \"Oceanfront\",\n",
      "      \"Size\": \"1,800 sqft\",\n",
      "      \"Description\": \"Immerse yourself in luxury living with this stunning beachfront condo in the heart of Beachfront Condos. This 2-bedroom, 2.5-bathroom unit features floor-to-ceiling windows offering breathtaking ocean views from every room. The modern kitchen is equipped with high-end appliances and sleek countertops, perfect for entertaining guests. Enjoy the sunrise and sunset from your private balcony overlooking the sandy beach below. With access to a rooftop pool, gym, and concierge services, this beachfront condo offers the ultimate in comfort and convenience.\",\n",
      "      \"Neighborhood Description\": \"Beachfront Condos is a prestigious waterfront community with direct access to pristine sandy beaches and a vibrant boardwalk lined with shops and restaurants. Residents can enjoy beach volleyball, water sports, and sunset yoga sessions just steps from their front door. With top-rated schools, upscale shopping centers, and a bustling nightlife scene, Beachfront Condos offers the perfect blend of luxury and beachfront living.\"\n",
      "    },\n",
      "    \"personalized\": {\n",
      "      \"Neighborhood\": \"Beachfront Condos\",\n",
      "      \"Price\": \"$1,200,000\",\n",
      "      \"Bedrooms\": 2,\n",
      "      \"Bathrooms\": 2, \n",
      "      \"Property\": \"Condo\",\n",
      "      \"View\": \"Oceanfront\",\n",
      "      \"Size\": \"1,800 sqft\",\n",
      "      \"Description\": \"Immerse yourself in luxury living with this stunning beachfront condo in the heart of Beachfront Condos. This 2-bedroom, 2-bathroom unit features floor-to-ceiling windows offering breathtaking ocean views from every room. The modern kitchen is equipped with high-end appliances and sleek countertops, perfect for entertaining guests. Enjoy the sunrise and sunset from your private balcony overlooking the sandy beach below. With access to a rooftop pool, gym, and concierge services, this beachfront condo offers the ultimate in comfort and convenience.\",\n",
      "      \"Neighborhood Description\": \"Beachfront Condos is a prestigious waterfront community with direct access to pristine sandy beaches and a vibrant boardwalk lined with shops and restaurants. Residents can enjoy beach volleyball, water sports, and sunset yoga sessions just steps from their front door. With top-rated schools, upscale shopping centers, and a bustling nightlife scene, Beachfront Condos offers the perfect blend of luxury and beachfront living.\"\n",
      "    }\n",
      "  }\n",
      "]\n",
      "\n"
     ]
    }
   ],
   "source": [
    "print(personalized_picks)"
   ]
  },
  {
   "cell_type": "markdown",
   "id": "abce4cf4-5ca7-4604-a890-093b5d2ad65b",
   "metadata": {},
   "source": [
    "### Step 8: Project Submission\n",
    "\n",
    "- Generated Listings: Include a file that contains your synthetically generated real estate listings. Name this file \"listings\"\n",
    "- Project Documentation: Include a readme file or an accompanying document explaining the functionality, how to run the code, and any prerequisites or dependencies.\n",
    "- Code Submission: Submit the Jupyter Notebook or Python program on the \"Project Submission Page\" that follows the workspace page."
   ]
  }
 ],
 "metadata": {
  "kernelspec": {
   "display_name": "Python 3 (ipykernel)",
   "language": "python",
   "name": "python3"
  },
  "language_info": {
   "codemirror_mode": {
    "name": "ipython",
    "version": 3
   },
   "file_extension": ".py",
   "mimetype": "text/x-python",
   "name": "python",
   "nbconvert_exporter": "python",
   "pygments_lexer": "ipython3",
   "version": "3.10.11"
  }
 },
 "nbformat": 4,
 "nbformat_minor": 5
}
